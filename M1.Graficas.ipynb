{
 "cells": [
  {
   "cell_type": "markdown",
   "id": "61d060ea",
   "metadata": {},
   "source": [
    "Alejandro Mariacca Santin\n",
    "A01654102"
   ]
  },
  {
   "cell_type": "code",
   "execution_count": 610,
   "id": "bca10ba2",
   "metadata": {},
   "outputs": [],
   "source": [
    "%matplotlib inline\n",
    "import matplotlib.pyplot as ptl"
   ]
  },
  {
   "cell_type": "code",
   "execution_count": 611,
   "id": "709e9ccb",
   "metadata": {},
   "outputs": [],
   "source": [
    "def compute_gini(model):\n",
    "    agent_points = [agent.puntos for agent in model.schedule.agents]\n",
    "    x = sorted(agent_points)\n",
    "    N = model.num_agents\n",
    "    B = sum(xi * (N - i) for i, xi in enumerate(x)) / (N * sum(x))\n",
    "    return 1 + (1 / N) - 2 * B"
   ]
  },
  {
   "cell_type": "code",
   "execution_count": 612,
   "id": "237920bb",
   "metadata": {},
   "outputs": [],
   "source": [
    "import mesa\n",
    "class AspiradoraAgent(mesa.Agent):\n",
    "    \"\"\"An agent with fixed initial wealth.\"\"\"\n",
    "\n",
    "    def __init__(self, unique_id, model):\n",
    "        super().__init__(unique_id, model)\n",
    "        self.puntos = 1\n",
    "\n",
    "    def move(self):\n",
    "        possible_steps = self.model.grid.get_neighborhood(\n",
    "            self.pos, moore=True, include_center=False\n",
    "        )\n",
    "        new_position = self.random.choice(possible_steps)\n",
    "        self.model.grid.move_agent(self, new_position)\n",
    "\n",
    "    def clean(self):\n",
    "        cell = self.model.grid.get_cell_list_contents([self.pos])\n",
    "        # print(cell)\n",
    "        for element in cell:\n",
    "            if isinstance(element, TrashAgent) == True:\n",
    "                self.model.grid.remove_agent(element)\n",
    "                self.puntos += 1\n",
    "\n",
    "    def step(self):\n",
    "        self.move()\n",
    "        self.clean()\n",
    "\n",
    "\n",
    "class AspiradoraModel(mesa.Model):\n",
    "    \"\"\"A model with some number of agents.\"\"\"\n",
    "\n",
    "    def __init__(self, N, Basura, width, height):\n",
    "        self.num_agents = N\n",
    "        self.basura = Basura\n",
    "\n",
    "        self.grid = mesa.space.MultiGrid(width, height, True)\n",
    "        self.schedule = mesa.time.RandomActivation(self)\n",
    "        self.schedule2 = mesa.time.RandomActivation(self)\n",
    "        self.running = True\n",
    "        \n",
    "        for i in range(self.num_agents):\n",
    "            a = AspiradoraAgent(i, self)\n",
    "            self.schedule.add(a)\n",
    "            self.grid.place_agent(a, (1, 1))\n",
    "\n",
    "        for i in range(self.basura):\n",
    "            a = TrashAgent(i + self.num_agents, Basura)\n",
    "            self.schedule2.add(a)\n",
    "            x = self.random.randrange(self.grid.width)\n",
    "            y = self.random.randrange(self.grid.height)\n",
    "            self.grid.place_agent(a, (x, y))\n",
    "\n",
    "\n",
    "\n",
    "        self.datacollector = mesa.DataCollector(\n",
    "            model_reporters={\"Gini\": compute_gini}, agent_reporters={\"Puntos\": \"puntos\"}\n",
    "        )\n",
    "    \n",
    "    def step(self):\n",
    "        self.datacollector.collect(self)\n",
    "        self.schedule.step()\n",
    "    \n",
    "\n",
    "class TrashAgent(mesa.Agent):\n",
    "    def __init__(self, unique_id, model):\n",
    "        super().__init__(unique_id, model)\n"
   ]
  },
  {
   "cell_type": "code",
   "execution_count": 613,
   "id": "494e4169",
   "metadata": {},
   "outputs": [
    {
     "data": {
      "text/plain": [
       "(array([  0.,  19.,  40.,  66.,  93., 110.,  72.,  48.,  23.,  20.,   9.]),\n",
       " array([ 0.,  1.,  2.,  3.,  4.,  5.,  6.,  7.,  8.,  9., 10., 11.]),\n",
       " <BarContainer object of 11 artists>)"
      ]
     },
     "execution_count": 613,
     "metadata": {},
     "output_type": "execute_result"
    },
    {
     "data": {
      "image/png": "[encoded data removed]",
      "text/plain": [
       "<Figure size 640x480 with 1 Axes>"
      ]
     },
     "metadata": {},
     "output_type": "display_data"
    }
   ],
   "source": [
    "all_wealth = []\n",
    "\n",
    "# This runs the model 100 times, each model executing 100 steps.\n",
    "for j in range(100):\n",
    "    # Run the model\n",
    "    model = AspiradoraModel(5, 20, 10, 10)\n",
    "    for i in range(100):\n",
    "        model.step()\n",
    "\n",
    "    # Store the results\n",
    "    for agent in model.schedule.agents:\n",
    "        all_wealth.append(agent.puntos)\n",
    "\n",
    "ptl.hist(all_wealth, bins=range(max(all_wealth) + 1))\n"
   ]
  },
  {
   "cell_type": "code",
   "execution_count": 614,
   "id": "c78f8cef",
   "metadata": {},
   "outputs": [
    {
     "data": {
      "text/plain": [
       "<matplotlib.colorbar.Colorbar at 0x2ceae8d30>"
      ]
     },
     "execution_count": 614,
     "metadata": {},
     "output_type": "execute_result"
    },
    {
     "data": {
      "image/png": "[encoded data removed]",
      "text/plain": [
       "<Figure size 640x480 with 2 Axes>"
      ]
     },
     "metadata": {},
     "output_type": "display_data"
    }
   ],
   "source": [
    "import numpy as np\n",
    "\n",
    "agent_counts = np.zeros((model.grid.width, model.grid.height))\n",
    "for cell in model.grid.coord_iter():\n",
    "    cell_content, x, y = cell\n",
    "    agent_count = len(cell_content)\n",
    "    agent_counts[x][y] = agent_count\n",
    "ptl.imshow(agent_counts, interpolation=\"nearest\")\n",
    "ptl.colorbar()"
   ]
  },
  {
   "cell_type": "code",
   "execution_count": 615,
   "id": "18cf8349",
   "metadata": {},
   "outputs": [
    {
     "data": {
      "text/plain": [
       "<AxesSubplot: >"
      ]
     },
     "execution_count": 615,
     "metadata": {},
     "output_type": "execute_result"
    },
    {
     "data": {
      "image/png": "[encoded data removed]",
      "text/plain": [
       "<Figure size 640x480 with 1 Axes>"
      ]
     },
     "metadata": {},
     "output_type": "display_data"
    }
   ],
   "source": [
    "gini = model.datacollector.get_model_vars_dataframe()\n",
    "gini.plot()"
   ]
  },
  {
   "cell_type": "code",
   "execution_count": 616,
   "id": "0f223cba",
   "metadata": {},
   "outputs": [
    {
     "data": {
      "text/html": [
       "<div>\n",
       "<style scoped>\n",
       "    .dataframe tbody tr th:only-of-type {\n",
       "        vertical-align: middle;\n",
       "    }\n",
       "\n",
       "    .dataframe tbody tr th {\n",
       "        vertical-align: top;\n",
       "    }\n",
       "\n",
       "    .dataframe thead th {\n",
       "        text-align: right;\n",
       "    }\n",
       "</style>\n",
       "<table border=\"1\" class=\"dataframe\">\n",
       "  <thead>\n",
       "    <tr style=\"text-align: right;\">\n",
       "      <th></th>\n",
       "      <th></th>\n",
       "      <th>Puntos</th>\n",
       "    </tr>\n",
       "    <tr>\n",
       "      <th>Step</th>\n",
       "      <th>AgentID</th>\n",
       "      <th></th>\n",
       "    </tr>\n",
       "  </thead>\n",
       "  <tbody>\n",
       "    <tr>\n",
       "      <th rowspan=\"5\" valign=\"top\">99</th>\n",
       "      <th>0</th>\n",
       "      <td>5</td>\n",
       "    </tr>\n",
       "    <tr>\n",
       "      <th>1</th>\n",
       "      <td>2</td>\n",
       "    </tr>\n",
       "    <tr>\n",
       "      <th>2</th>\n",
       "      <td>5</td>\n",
       "    </tr>\n",
       "    <tr>\n",
       "      <th>3</th>\n",
       "      <td>7</td>\n",
       "    </tr>\n",
       "    <tr>\n",
       "      <th>4</th>\n",
       "      <td>6</td>\n",
       "    </tr>\n",
       "  </tbody>\n",
       "</table>\n",
       "</div>"
      ],
      "text/plain": [
       "              Puntos\n",
       "Step AgentID        \n",
       "99   0             5\n",
       "     1             2\n",
       "     2             5\n",
       "     3             7\n",
       "     4             6"
      ]
     },
     "execution_count": 616,
     "metadata": {},
     "output_type": "execute_result"
    }
   ],
   "source": [
    "agent_wealth = model.datacollector.get_agent_vars_dataframe()\n",
    "agent_wealth.tail()"
   ]
  },
  {
   "cell_type": "code",
   "execution_count": 617,
   "id": "e9e2ed51",
   "metadata": {},
   "outputs": [
    {
     "name": "stderr",
     "output_type": "stream",
     "text": [
      "100%|██████████| 5/5 [00:00<00:00, 304.08it/s]\n"
     ]
    }
   ],
   "source": [
    "params = {\"width\": 10,  \"height\": 10, \"N\": 5,\"Basura\": 20}\n",
    "#params = {\"width\": 10,  \"height\": 10, \"N\": range(1, 110, 10),\"Basura\": 20}\n",
    "results = mesa.batch_run(\n",
    "    AspiradoraModel,\n",
    "    parameters=params,\n",
    "    iterations=5,\n",
    "    max_steps=100,\n",
    "    number_processes=1,\n",
    "    data_collection_period=1,\n",
    "    display_progress=True,\n",
    ")"
   ]
  },
  {
   "cell_type": "code",
   "execution_count": 618,
   "id": "3f871baf",
   "metadata": {},
   "outputs": [
    {
     "name": "stdout",
     "output_type": "stream",
     "text": [
      "Index(['RunId', 'iteration', 'Step', 'width', 'height', 'N', 'Basura', 'Gini',\n",
      "       'AgentID', 'Puntos'],\n",
      "      dtype='object')\n"
     ]
    }
   ],
   "source": [
    "import pandas as pd\n",
    "\n",
    "results_df = pd.DataFrame(results)\n",
    "print(results_df.keys())"
   ]
  },
  {
   "cell_type": "code",
   "execution_count": 619,
   "id": "ffb26dbd",
   "metadata": {},
   "outputs": [
    {
     "data": {
      "text/plain": [
       "<AxesSubplot: xlabel='AgentID'>"
      ]
     },
     "execution_count": 619,
     "metadata": {},
     "output_type": "execute_result"
    },
    {
     "data": {
      "image/png": "[encoded data removed]",
      "text/plain": [
       "<Figure size 640x480 with 1 Axes>"
      ]
     },
     "metadata": {},
     "output_type": "display_data"
    }
   ],
   "source": [
    "results_df.plot(x='AgentID', y='Puntos', style='.')\n"
   ]
  },
  {
   "cell_type": "code",
   "execution_count": 620,
   "id": "804b6746",
   "metadata": {},
   "outputs": [
    {
     "data": {
      "text/plain": [
       "<AxesSubplot: xlabel='Step'>"
      ]
     },
     "execution_count": 620,
     "metadata": {},
     "output_type": "execute_result"
    },
    {
     "data": {
      "image/png": "[encoded data removed]",
      "text/plain": [
       "<Figure size 640x480 with 1 Axes>"
      ]
     },
     "metadata": {},
     "output_type": "display_data"
    }
   ],
   "source": [
    "results_df.plot(x='Step', y='Puntos', style='.')"
   ]
  },
  {
   "cell_type": "code",
   "execution_count": 621,
   "id": "537d8c85",
   "metadata": {},
   "outputs": [
    {
     "data": {
      "text/plain": [
       "<matplotlib.collections.PathCollection at 0x149f70400>"
      ]
     },
     "execution_count": 621,
     "metadata": {},
     "output_type": "execute_result"
    },
    {
     "data": {
      "image/png": "[encoded data removed]",
      "text/plain": [
       "<Figure size 640x480 with 1 Axes>"
      ]
     },
     "metadata": {},
     "output_type": "display_data"
    }
   ],
   "source": [
    "results_filtered = results_df[(results_df.AgentID == 2) & (results_df.Step <= 101)]\n",
    "N_values = results_filtered.N.values\n",
    "gini_values = results_filtered.Gini.values\n",
    "ptl.scatter(N_values, gini_values)"
   ]
  },
  {
   "cell_type": "markdown",
   "id": "9d096ec9",
   "metadata": {},
   "source": [
    "Estas son funciones que representan datos de forma numérica y no en forma de tabla."
   ]
  },
  {
   "cell_type": "code",
   "execution_count": 622,
   "id": "b0fcbcfa",
   "metadata": {},
   "outputs": [
    {
     "name": "stdout",
     "output_type": "stream",
     "text": [
      " Step  AgentID  Puntos\n",
      "    0        0       1\n",
      "    0        1       1\n",
      "    0        2       1\n",
      "    0        3       1\n",
      "    0        4       1\n",
      "    1        0       1\n",
      "    1        1       1\n",
      "    1        2       1\n",
      "    1        3       1\n",
      "    1        4       1\n",
      "    2        0       2\n",
      "    2        1       1\n",
      "  ...      ...     ...\n",
      "   98        3       4\n",
      "   98        4       6\n",
      "   99        0       6\n",
      "   99        1       2\n",
      "   99        2       7\n",
      "   99        3       4\n",
      "   99        4       6\n",
      "  100        0       6\n",
      "  100        1       2\n",
      "  100        2       7\n",
      "  100        3       4\n",
      "  100        4       6\n"
     ]
    }
   ],
   "source": [
    "# First, we filter the results\n",
    "one_episode_wealth = results_df#[(results_df.N == 10) & (results_df.iteration == 2)]\n",
    "# Then, print the columns of interest of the filtered data frame\n",
    "print(\n",
    "    one_episode_wealth.to_string(\n",
    "        index=False, columns=[\"Step\", \"AgentID\", \"Puntos\"], max_rows=25\n",
    "    )\n",
    ")"
   ]
  },
  {
   "cell_type": "code",
   "execution_count": 623,
   "id": "6a533bfa",
   "metadata": {},
   "outputs": [
    {
     "name": "stdout",
     "output_type": "stream",
     "text": [
      " Step     Gini\n",
      "    0 0.000000\n",
      "    0 0.000000\n",
      "    0 0.000000\n",
      "    0 0.000000\n",
      "    0 0.000000\n",
      "    1 0.000000\n",
      "    1 0.000000\n",
      "    1 0.000000\n",
      "    1 0.000000\n",
      "    1 0.000000\n",
      "    2 0.133333\n",
      "    2 0.133333\n",
      "  ...      ...\n",
      "   98 0.192000\n",
      "   98 0.192000\n",
      "   99 0.192000\n",
      "   99 0.192000\n",
      "   99 0.192000\n",
      "   99 0.192000\n",
      "   99 0.192000\n",
      "  100 0.192000\n",
      "  100 0.192000\n",
      "  100 0.192000\n",
      "  100 0.192000\n",
      "  100 0.192000\n"
     ]
    }
   ],
   "source": [
    "results_one_episode = results_df\n",
    "\n",
    "print(results_one_episode.to_string(index=False, columns=[\"Step\", \"Gini\"], max_rows=25))"
   ]
  },
  {
   "cell_type": "code",
   "execution_count": null,
   "id": "80a17ec4",
   "metadata": {},
   "outputs": [],
   "source": []
  }
 ],
 "metadata": {
  "kernelspec": {
   "display_name": "Python 3.9.6 ('venv': venv)",
   "language": "python",
   "name": "python3"
  },
  "language_info": {
   "codemirror_mode": {
    "name": "ipython",
    "version": 3
   },
   "file_extension": ".py",
   "mimetype": "text/x-python",
   "name": "python",
   "nbconvert_exporter": "python",
   "pygments_lexer": "ipython3",
   "version": "3.9.6"
  },
  "vscode": {
   "interpreter": {
    "hash": "185d79ceaa4b3fe003585660bee6ffa6bfcc92e30d39542d305965acf07c235d"
   }
  }
 },
 "nbformat": 4,
 "nbformat_minor": 5
}
